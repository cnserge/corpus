{
  "cells": [
    {
      "cell_type": "markdown",
      "metadata": {
        "id": "view-in-github",
        "colab_type": "text"
      },
      "source": [
        "<a href=\"https://colab.research.google.com/github/cnserge/corpus/blob/main/chi2AndMosaicplot.ipynb\" target=\"_parent\"><img src=\"https://colab.research.google.com/assets/colab-badge.svg\" alt=\"Open In Colab\"/></a>"
      ]
    },
    {
      "cell_type": "code",
      "execution_count": 28,
      "metadata": {
        "id": "K2vlOXc0lJ_q"
      },
      "outputs": [],
      "source": [
        "from __future__ import division\n",
        "import pandas as pd\n",
        "import matplotlib.pyplot as plt\n",
        "from statsmodels.graphics.mosaicplot import mosaic\n",
        "import statsmodels.api as sm  # for the calculation of pearson residuals\n",
        "import matplotlib as mpl\n",
        "import scipy.stats as stats\n",
        "import os"
      ]
    },
    {
      "cell_type": "markdown",
      "metadata": {
        "id": "excL701PlJ_s"
      },
      "source": [
        "set working directory"
      ]
    },
    {
      "cell_type": "code",
      "execution_count": null,
      "metadata": {
        "id": "atW2nkPKlJ_t"
      },
      "outputs": [],
      "source": [
        "# csvdir = \"/insert/your/directory/here\"\n",
        "\n",
        "# example\n",
        "csvdir = r\"E:\\Dropbox\\Peter\\Documenten_Taalkunde\\Onderwijs 7, Corpus studies\\2024-2025\\corpus_studies\\resources\""
      ]
    },
    {
      "cell_type": "markdown",
      "metadata": {
        "id": "RvybsR4flJ_t"
      },
      "source": [
        "change working directory to set directory"
      ]
    },
    {
      "cell_type": "code",
      "execution_count": 21,
      "metadata": {
        "id": "7vNb4ZyMlJ_t",
        "colab": {
          "base_uri": "https://localhost:8080/",
          "height": 139
        },
        "outputId": "812269c3-c09a-4907-c06e-988a4282b6b9"
      },
      "outputs": [
        {
          "output_type": "error",
          "ename": "NameError",
          "evalue": "name 'csvdir' is not defined",
          "traceback": [
            "\u001b[0;31m---------------------------------------------------------------------------\u001b[0m",
            "\u001b[0;31mNameError\u001b[0m                                 Traceback (most recent call last)",
            "\u001b[0;32m<ipython-input-21-93253ae3607e>\u001b[0m in \u001b[0;36m<cell line: 1>\u001b[0;34m()\u001b[0m\n\u001b[0;32m----> 1\u001b[0;31m \u001b[0mos\u001b[0m\u001b[0;34m.\u001b[0m\u001b[0mchdir\u001b[0m\u001b[0;34m(\u001b[0m\u001b[0mcsvdir\u001b[0m\u001b[0;34m)\u001b[0m\u001b[0;34m\u001b[0m\u001b[0;34m\u001b[0m\u001b[0m\n\u001b[0m",
            "\u001b[0;31mNameError\u001b[0m: name 'csvdir' is not defined"
          ]
        }
      ],
      "source": [
        "os.chdir(csvdir)"
      ]
    },
    {
      "cell_type": "markdown",
      "metadata": {
        "id": "D55yEjMNlJ_u"
      },
      "source": [
        "Read the data from the Excel or csv file"
      ]
    },
    {
      "cell_type": "code",
      "execution_count": 43,
      "metadata": {
        "id": "l1BW0pS0lJ_u"
      },
      "outputs": [],
      "source": [
        "df = pd.read_excel(\"/content/sample_data/data.xlsx\")\n"
      ]
    },
    {
      "cell_type": "markdown",
      "metadata": {
        "id": "B0fKSJ86lJ_u"
      },
      "source": [
        "Subset the dataframe to the targeted cleft data only"
      ]
    },
    {
      "cell_type": "code",
      "execution_count": 61,
      "metadata": {
        "id": "7I0O07NhlJ_u"
      },
      "outputs": [],
      "source": [
        "clefts = df[df['category'] == 'cleft_target']"
      ]
    },
    {
      "cell_type": "code",
      "source": [
        "df.columns"
      ],
      "metadata": {
        "colab": {
          "base_uri": "https://localhost:8080/"
        },
        "id": "OROT2WM5mdC6",
        "outputId": "102b6ce0-2219-467f-aec5-425cb9a9e872"
      },
      "execution_count": 45,
      "outputs": [
        {
          "output_type": "execute_result",
          "data": {
            "text/plain": [
              "Index(['nr', 'previous_turns', 'speaker_id', 'pre', 'match', 'match+1',\n",
              "       'match+2', 'match+3', 'post', 'id', 'url', 'role', 'category',\n",
              "       'subcategory', 'notes', 'type', 'focus', 'sentiment_annotator1',\n",
              "       'sentiment_annotator2', 'generalization_annotator1',\n",
              "       'generalization_annotator2', 'hedging_annotator1', 'hedging_annotator2',\n",
              "       'age_cohort', 'gender', 'name', 'age', 'occupation', 'location'],\n",
              "      dtype='object')"
            ]
          },
          "metadata": {},
          "execution_count": 45
        }
      ]
    },
    {
      "cell_type": "markdown",
      "metadata": {
        "id": "8cSYm7qglJ_v"
      },
      "source": [
        "Create a mosaic plot for the variables of choice (in this example: cleft type by gender)\n",
        "Subset your data to the category and values you want to look at"
      ]
    },
    {
      "cell_type": "code",
      "execution_count": 62,
      "metadata": {
        "id": "2aVTmV_IlJ_v"
      },
      "outputs": [],
      "source": [
        "vals = ['positive', 'negative', 'neutral'] # example: we want to look at cleft type, restricting ourselves to the four basic cleft types, ignoring typos in values or other values\n",
        "                                                    # so, for sentiment analysis e.g., set vals to ['positive', 'negative', 'neutral']\n",
        "dataInput = clefts[clefts['sentiment_annotator1'].isin(vals)]"
      ]
    },
    {
      "cell_type": "markdown",
      "metadata": {
        "id": "CimfVtK3lJ_v"
      },
      "source": [
        "Create a contingency table, and print it"
      ]
    },
    {
      "cell_type": "code",
      "execution_count": 63,
      "metadata": {
        "colab": {
          "base_uri": "https://localhost:8080/"
        },
        "id": "UJRGZ5bplJ_w",
        "outputId": "9066bf0f-cac0-4e25-9675-b957f8bdbd6a"
      },
      "outputs": [
        {
          "output_type": "stream",
          "name": "stdout",
          "text": [
            "sentiment_annotator1  negative  neutral  positive\n",
            "gender                                           \n",
            "f                           32       51        12\n",
            "m                           10       24         5\n",
            "u                            5       11         0\n"
          ]
        }
      ],
      "source": [
        "plotInput = pd.crosstab(dataInput['gender'], dataInput['sentiment_annotator1']) # change the column names to the column names of the data you want to look at\n",
        "print(plotInput)"
      ]
    },
    {
      "cell_type": "markdown",
      "metadata": {
        "id": "y3RirDodlJ_w"
      },
      "source": [
        "Calculate chi-square statistics\n",
        "Store output of chi-square test into separate variables and print them"
      ]
    },
    {
      "cell_type": "code",
      "execution_count": 65,
      "metadata": {
        "id": "l9lRtfjBlJ_x",
        "colab": {
          "base_uri": "https://localhost:8080/"
        },
        "outputId": "846c63cb-3ff7-494c-93de-34477aaa70aa"
      },
      "outputs": [
        {
          "output_type": "stream",
          "name": "stdout",
          "text": [
            "chi square value =3.306296810672978\n",
            "p-value =0.5079352028122742\n",
            "degrees of freedom =4\n",
            "\n",
            "expected values =\n",
            "[[29.76666667 54.46666667 10.76666667]\n",
            " [12.22       22.36        4.42      ]\n",
            " [ 5.01333333  9.17333333  1.81333333]]\n"
          ]
        }
      ],
      "source": [
        "chi2, p, dof, expected = stats.chi2_contingency(plotInput)\n",
        "\n",
        "print(\"chi square value =\" + str(chi2))\n",
        "print(\"p-value =\" + str(p))\n",
        "print(\"degrees of freedom =\" + str(dof))\n",
        "print(\"\\nexpected values =\")\n",
        "print(expected) # matrix of expected values (under a normal/chi-square distribution)"
      ]
    },
    {
      "cell_type": "markdown",
      "metadata": {
        "id": "I65lMiTvlJ_x"
      },
      "source": [
        "calculate Pearson residuals and print them (for more information see: https://www.statology.org/pearson-residuals/; for the calculation in python, see https://stackoverflow.com/questions/20453729/what-is-the-equivalent-of-r-data-chisqresiduals-in-python)\n",
        "\n",
        "Rule of thumb: if the standardized Pearson residuals are larger than 2 or smaller than -2, this probably means something is going on in that cell (a correlation beyond chance)"
      ]
    },
    {
      "cell_type": "code",
      "execution_count": 66,
      "metadata": {
        "id": "2XcJAHJhlJ_x",
        "colab": {
          "base_uri": "https://localhost:8080/"
        },
        "outputId": "81143fb7-18c2-4407-fe59-6554c14f3910"
      },
      "outputs": [
        {
          "output_type": "stream",
          "name": "stdout",
          "text": [
            "Pearson residuals\n",
            "sentiment_annotator1  negative   neutral  positive\n",
            "gender                                            \n",
            "f                     0.428182 -0.445951  0.286882\n",
            "m                    -0.624488  0.363137  0.218413\n",
            "u                    -0.067324  0.511766 -1.024162\n",
            "\n",
            "\n",
            "Standardized Pearson residuals\n",
            "sentiment_annotator1  negative   neutral  positive\n",
            "gender                                            \n",
            "f                     0.850253 -1.121753  0.502536\n",
            "m                    -0.874890  0.644450  0.269930\n",
            "u                    -0.086036  0.828468 -1.154588\n"
          ]
        }
      ],
      "source": [
        "table = sm.stats.Table(plotInput)\n",
        "print(\"Pearson residuals\")\n",
        "print(table.resid_pearson)\n",
        "print(\"\\n\")\n",
        "print(\"Standardized Pearson residuals\")\n",
        "print(table.standardized_resids)"
      ]
    },
    {
      "cell_type": "markdown",
      "metadata": {
        "id": "pNuUypFVlJ_y"
      },
      "source": [
        "Create the mosaic plot"
      ]
    },
    {
      "cell_type": "code",
      "execution_count": 69,
      "metadata": {
        "id": "YwVfbgY1lJ_y",
        "outputId": "6eb8fc09-3e0f-4b31-e699-941b20e3de5d",
        "colab": {
          "base_uri": "https://localhost:8080/",
          "height": 452
        }
      },
      "outputs": [
        {
          "output_type": "display_data",
          "data": {
            "text/plain": [
              "<Figure size 640x480 with 3 Axes>"
            ],
            "image/png": "[encoded data removed]"
          },
          "metadata": {}
        }
      ],
      "source": [
        "# define labels for plot tiles\n",
        "labels = table.standardized_resids  # now feeding standardized residuals into the labelizer; change the input variable to\n",
        "                                    # table.resid_pearson for non-standardized pearson residuals\n",
        "                                    # PlotInput for raw counts\n",
        "\n",
        "# convert the dataframe to a dictionary, as the mosaic plot labelizer attribute requires a dictionary as input\n",
        "label_values = {}\n",
        "for header in list(labels):\n",
        "    for index in labels.index:\n",
        "        label_values[(index, header)] = round(labels.loc[index, header], 2)\n",
        "\n",
        "labelizer = lambda k:label_values[k]\n",
        "mosaic(plotInput.stack(), gap=0.01, title=\"Sentiment type by gender\", labelizer=labelizer) # change the title accordingly\n",
        "\n",
        "plt.savefig(\"mosaicplot.png\", bbox_inches='tight')\n",
        "# plt.close()\n"
      ]
    },
    {
      "cell_type": "code",
      "execution_count": 68,
      "metadata": {
        "id": "cjKIH3d1lJ_y",
        "colab": {
          "base_uri": "https://localhost:8080/"
        },
        "outputId": "d493f72e-aabe-4676-d8a1-54b615332e80"
      },
      "outputs": [
        {
          "output_type": "stream",
          "name": "stdout",
          "text": [
            "gender\n",
            "f    95\n",
            "m    39\n",
            "u    16\n",
            "Name: count, dtype: int64\n",
            "type\n",
            "TBA          63\n",
            "canonical    50\n",
            "IP           34\n",
            "other         3\n",
            "ambiguous     1\n",
            "Name: count, dtype: int64\n"
          ]
        }
      ],
      "source": [
        "print(dataInput['gender'].value_counts())\n",
        "print(dataInput['type'].value_counts())"
      ]
    }
  ],
  "metadata": {
    "kernelspec": {
      "display_name": "Python 3",
      "language": "python",
      "name": "python3"
    },
    "language_info": {
      "codemirror_mode": {
        "name": "ipython",
        "version": 3
      },
      "file_extension": ".py",
      "mimetype": "text/x-python",
      "name": "python",
      "nbconvert_exporter": "python",
      "pygments_lexer": "ipython3",
      "version": "3.8.5"
    },
    "colab": {
      "provenance": [],
      "include_colab_link": true
    }
  },
  "nbformat": 4,
  "nbformat_minor": 0
}