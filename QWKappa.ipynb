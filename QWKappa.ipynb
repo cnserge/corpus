{
  "cells": [
    {
      "cell_type": "markdown",
      "metadata": {
        "id": "view-in-github",
        "colab_type": "text"
      },
      "source": [
        "<a href=\"https://colab.research.google.com/github/cnserge/corpus/blob/main/QWKappa.ipynb\" target=\"_parent\"><img src=\"https://colab.research.google.com/assets/colab-badge.svg\" alt=\"Open In Colab\"/></a>"
      ]
    },
    {
      "cell_type": "code",
      "execution_count": 6,
      "metadata": {
        "id": "HDulYMatPvoG"
      },
      "outputs": [],
      "source": [
        "import os # to make use of commands that are internal to the operating system (os), e.g. dealing with copying files or getting directory paths\n",
        "import numpy as np\n",
        "import pandas as pd\n",
        "from sklearn.metrics import confusion_matrix # instructions on how to install sklearn.metrics: https://scikit-learn.org/stable/install.html\n",
        "from sklearn.metrics import cohen_kappa_score\n",
        "import itertools\n",
        "import matplotlib.pyplot as plt\n",
        "import random as random"
      ]
    },
    {
      "cell_type": "code",
      "execution_count": 7,
      "metadata": {
        "id": "o3zSdW3mPvoK"
      },
      "outputs": [],
      "source": [
        "# If you created a csv-file (when downloaded from google spreadsheets this is by default a comma-separated table with \"\" as quote [i.e. string] markers. Change sep and quote if needed)\n",
        "df = pd.read_csv(\"/content/sample_data/Cleft_data_for_annotation - Sheet1-2.csv\")"
      ]
    },
    {
      "cell_type": "code",
      "execution_count": 8,
      "metadata": {
        "jp-MarkdownHeadingCollapsed": true,
        "colab": {
          "base_uri": "https://localhost:8080/"
        },
        "id": "-BvpoM-sPvoM",
        "outputId": "cef329a9-e921-4e14-f104-80e03e1d89f4"
      },
      "outputs": [
        {
          "output_type": "stream",
          "name": "stdout",
          "text": [
            "<bound method NDFrame.head of      nr                                     previous_turns speaker_id  \\\n",
            "0    30  > <tr> <td valign=\"top\">Arthur (PS03S) </td> <...      PS03T   \n",
            "1    45  > <td valign=\"top\">Audrey (PS1A9) </td> <td> [...      PS1A9   \n",
            "2    48  ?<br></td> </tr> <tr> <td valign=\"top\">Terri (...      PS03X   \n",
            "3    56  valign=\"top\">Terri (PS03X) </td> <td> [2421] W...      PS03Y   \n",
            "4    59  actually opened <br></td> </tr> <tr> <td valig...   KBDPSUNK   \n",
            "5    76  > <tr> <td valign=\"top\">Hugh (PS03Y) </td> <td...      PS03W   \n",
            "6    78  > </tr> <tr> <td valign=\"top\">Sally (PS04H) </...      PS04H   \n",
            "7   104  ... on one of the panels!<br></td> </tr> <tr> ...      PS04Y   \n",
            "8   114                                            #ERROR!      PS04Y   \n",
            "9   127  being nice [...] <br></td> </tr> <tr> <td vali...      PS04Y   \n",
            "10  134  > <tr> <td valign=\"top\">Dave (PS04V) </td> <td...      PS04V   \n",
            "11  136  [12371] Sara ?<br></td> </tr> <tr> <td valign=...      PS04U   \n",
            "12  140  to you mate.<br> [13444] If you think that you...      PS04V   \n",
            "13  154  quite soon [baby shouts] quite soon after she ...      PS05F   \n",
            "14  160  hibition?<br></td> </tr> <tr> <td valign=\"top\"...      PS05B   \n",
            "15  165  05J) </td> <td> [3423] Mm ... and you had the ...      PS05B   \n",
            "16  169  climbing frame do we?<br></td> </tr> <tr> <td ...      PS05B   \n",
            "17  170  > [...] </td> </tr> <tr> <td valign=\"top\">Caro...      PS05B   \n",
            "18  173  (PS05B) </td> <td> [6590] So that they can act...      PS05J   \n",
            "19  175  > [764] And did I like it?<br></td> </tr> <tr>...      PS1DP   \n",
            "20  196  > <tr> <td valign=\"top\">Norrine (PS101) </td> ...      PS101   \n",
            "21  198  > </tr> <tr> <td valign=\"top\">Chris (PS05X) </...      PS102   \n",
            "22  203  really that's why it's a lot easier to read th...      PS05X   \n",
            "23  211  s nothing to stop me from giving Sally a ring ...      PS101   \n",
            "24  214  101) </td> <td> [7358] Is that likely to happe...      PS101   \n",
            "25  215  > [526] This is [...] listen to it [...] he's ...      PS06A   \n",
            "26  217  250] White.<br></td> </tr> <tr> <td valign=\"to...      PS06B   \n",
            "27  243  [1517] Apart from the birds and the bees and t...      PS066   \n",
            "28  251  <td valign=\"top\">Nina (PS066) </td> <td> [3330...      PS066   \n",
            "29  268  > [1277] I said to remind me. [laugh] <br></td...      PS07D   \n",
            "30  272  him<br></td> </tr> <tr> <td valign=\"top\">Unkno...      PS18N   \n",
            "31  273  (PS18H) </td> <td> [895] Yes you are.<br></td>...      PS18L   \n",
            "\n",
            "                                                  pre match match+1  \\\n",
            "0         </td> <td> [10734] I expect so.<br> [10735]    It     was   \n",
            "1   </td> <td> [5949] Aye.<br> [5950] And he said ...   it'   s ...   \n",
            "2                                    </td> <td> [244]   It'       s   \n",
            "3                                   </td> <td> [2434]   It'       s   \n",
            "4   </td> <td> [3375] [laughing] I don't know [] ....   It'       s   \n",
            "5              </td> <td> [8896] Yeah.<br> [8897] ...    It     was   \n",
            "6   </td> <td> [1209] I should say about two years...    it     was   \n",
            "7   </td> <td> [1830] Well I think he can ... go t...   it'       s   \n",
            "8                     </td> <td> [3796] They say that   it'       s   \n",
            "9                               </td> <td> [9390] no,    it     was   \n",
            "10  </td> <td> [12038] So that's why [...] .<br> [...    it     was   \n",
            "11            </td> <td> [12387] Yeah but Tracey said   it'       s   \n",
            "12                                 </td> <td> [13456]   It'       s   \n",
            "13              </td> <td> [722] I wouldn't mind, but   it'       s   \n",
            "14              </td> <td> [2225] Well it's not a lot   it'       s   \n",
            "15  </td> <td> [3435] No, cos she doesn't know how...   it'       s   \n",
            "16      </td> <td> [4453] Really?<br> [4454] ... Well   it'       s   \n",
            "17  </td> <td> [4962] [laugh] , I didn't know that...   it'       s   \n",
            "18  </td> <td> [6595] and the doctors was selling ...   it'       s   \n",
            "19                 </td> <td> [781] [...] ... I think   it'       s   \n",
            "20  </td> <td> [2079] [cough] ... There's a commen...    it      is   \n",
            "21                                  </td> <td> [2711]   It'       s   \n",
            "22  </td> <td> [4754] That, that's right, you've s...   it'       s   \n",
            "23                               </td> <td> [7027] No    it      is   \n",
            "24                              </td> <td> [7366] But   it'       s   \n",
            "25  </td> <td> [539] Yeah.<br> [540] ... But he .....    it     was   \n",
            "26                </td> <td> [2264] School's alright,   it'       s   \n",
            "27  </td> <td> [1531] Maybe it's probably has a ro...   it'       s   \n",
            "28                          </td> <td> [3348] [laugh]   It'       s   \n",
            "29  </td> <td> [1288] Next week I'll beat you.<br>...    It     was   \n",
            "30  </td> <td> [552] This is your study guide.<br>...   it'       s   \n",
            "31  </td> <td> [907] But I found when I looked at ...   it'       s   \n",
            "\n",
            "          match+2                             match+3  \\\n",
            "0             the                      right that she   \n",
            "1             the       clots to your brains that erm   \n",
            "2             the  office and the front door that are   \n",
            "3             the                nice ones that leave   \n",
            "4         getting    the steam roller up that worries   \n",
            "5              an              awful goal that United   \n",
            "6            just          over four years ago that I   \n",
            "7        probably     something very crafty that they   \n",
            "8             the                     poor that helps   \n",
            "9        Michelle                            that was   \n",
            "10             in                     the book that I   \n",
            "11            all                  the ones that have   \n",
            "12            not                 the football that I   \n",
            "13       normally                        me that goes   \n",
            "14           only          really the length which is   \n",
            "15            one      of these silly valves that you   \n",
            "16           only                   recently that she   \n",
            "17            the            bulb over there that had   \n",
            "18           only          the family unit that helps   \n",
            "19           this                     weekend that we   \n",
            "20           only            the right child which is   \n",
            "21        because                       of it that we   \n",
            "22           that          sort of reaction that your   \n",
            "23  communication               that tells us that it   \n",
            "24            the                       year that you   \n",
            "25            his                       hair that ...   \n",
            "26            the                    lessons that are   \n",
            "27            you                            that put   \n",
            "28        usually                      women that don   \n",
            "29           that         final little hand that beat   \n",
            "30           from  your feedback evaluations that you   \n",
            "31            not  until you get into it ... that you   \n",
            "\n",
            "                                                 post   id  ...  \\\n",
            "0   broke.<br> [10736] Lord!<br> [10737] I think t...  KBB  ...   \n",
            "1   ... that cause it, you know.<br> [5951] They s...  KBC  ...   \n",
            "2   Jean's then.<br></td> </tr> <tr> <td valign=\"t...  KBD  ...   \n",
            "3   their drink there.<br></td> </tr> <tr> <td val...  KBD  ...   \n",
            "4   me. [laugh] <br></td> </tr> <tr> <td valign=\"t...  KBD  ...   \n",
            "5   gave away weren't it?<br></td> </tr> <tr> <td ...  KBD  ...   \n",
            "6   came here.<br></td> </tr> <tr> <td valign=\"top...  KBE  ...   \n",
            "7   thought up between them, this pair!<br></td> <...  KBF  ...   \n",
            "8   the poor and that's how I've found it goes ......  KBF  ...   \n",
            "9   coming round with the baby<br></td> </tr> <tr>...  KBF  ...   \n",
            "10  was available [...] <br></td> </tr> <tr> <td v...  KBF  ...   \n",
            "11  worked hard and tried ... have got low marks.<...  KBF  ...   \n",
            "12  m worried about.<br> [13457] It's the skiing.<...  KBF  ...   \n",
            "13  and sleeps on the settee and I don't see why I...  KBH  ...   \n",
            "14  different isn't it?<br></td> </tr> <tr> <td va...  KBH  ...   \n",
            "15  have to pinch to <br></td> </tr> <tr> <td vali...  KBH  ...   \n",
            "16  s started ... drinking orange juice ... I know...  KBH  ...   \n",
            "17  gone, but I find it so difficult to get at, yo...  KBH  ...   \n",
            "18  itself out so if you're an orphan<br></td> </t...  KBH  ...   \n",
            "19  go to the fire station.<br> [782] This Sunday....  KBJ  ...   \n",
            "20  considered.<br> [2080] An unmarried couple<br>...  KBK  ...   \n",
            "21  bought [...] .<br></td> </tr> <tr> <td valign=...  KBK  ...   \n",
            "22  brain makes isn't it?<br></td> </tr> <tr> <td ...  KBK  ...   \n",
            "23  is so awful now.<br> [7028] I don't think it's...  KBK  ...   \n",
            "24  haven't, but yo the year before that you haven...  KBK  ...   \n",
            "25  put them off.<br></td> </tr> <tr> <td valign=\"...  KBL  ...   \n",
            "26  sad!<br></td> </tr> <tr> <td valign=\"top\">Cher...  KBL  ...   \n",
            "27  the fountain on today. [laugh] <br></td> </tr>...  KBP  ...   \n",
            "28  t want you to know.<br></td> </tr> <tr> <td va...  KBP  ...   \n",
            "29  me.<br></td> </tr> <tr> <td valign=\"top\">Dad (...  KBS  ...   \n",
            "30  don't get enough ... biological science.<br></...  KBU  ...   \n",
            "31  think ... shit!<br> [908] I don't know this an...  KBU  ...   \n",
            "\n",
            "   generalization_annotator1 generalization_annotator2 hedging_annotator1  \\\n",
            "0             Bloemen Margot                Mersin Can               none   \n",
            "1             Bloemen Margot                Mersin Can               none   \n",
            "2             Bloemen Margot                Mersin Can               none   \n",
            "3             Bloemen Margot                Mersin Can               none   \n",
            "4             Bloemen Margot                Mersin Can               none   \n",
            "5             Bloemen Margot                Mersin Can            hedging   \n",
            "6             Bloemen Margot                Mersin Can               none   \n",
            "7             Bloemen Margot                Mersin Can            hedging   \n",
            "8             Bloemen Margot                Mersin Can               none   \n",
            "9             Bloemen Margot                Mersin Can               none   \n",
            "10            Bloemen Margot                Mersin Can               none   \n",
            "11            Bloemen Margot                Mersin Can               none   \n",
            "12            Bloemen Margot                Mersin Can               none   \n",
            "13            Bloemen Margot                Mersin Can               none   \n",
            "14            Bloemen Margot                Mersin Can            hedging   \n",
            "15            Bloemen Margot                Mersin Can               none   \n",
            "16            Bloemen Margot                Mersin Can               none   \n",
            "17            Bloemen Margot                Mersin Can               none   \n",
            "18            Bloemen Margot                Mersin Can               none   \n",
            "19            Bloemen Margot                Mersin Can            hedging   \n",
            "20            Bloemen Margot                Mersin Can               none   \n",
            "21            Bloemen Margot                Mersin Can            unclear   \n",
            "22            Bloemen Margot                Mersin Can            hedging   \n",
            "23            Bloemen Margot                Mersin Can               none   \n",
            "24            Bloemen Margot                Mersin Can               none   \n",
            "25            Bloemen Margot                Mersin Can               none   \n",
            "26            Bloemen Margot                Mersin Can               none   \n",
            "27            Bloemen Margot                Mersin Can            hedging   \n",
            "28            Bloemen Margot                Mersin Can               none   \n",
            "29            Bloemen Margot                Mersin Can               none   \n",
            "30            Bloemen Margot                Mersin Can               none   \n",
            "31            Bloemen Margot                Mersin Can               none   \n",
            "\n",
            "   hedging_annotator2 age_cohort gender             name      age  \\\n",
            "0                none        Ag5      f           Evelyn       75   \n",
            "1             unclear        Ag5      f           Audrey       61   \n",
            "2                none        Ag3      f            Terri       35   \n",
            "3                none        Ag2      m             Hugh       30   \n",
            "4                none          X      u  Unknown speaker  unknown   \n",
            "5                none        Ag3      m            Barry       41   \n",
            "6                none        Ag1      f            Sally       23   \n",
            "7             hedging        Ag5      f             Jean       62   \n",
            "8                none        Ag5      f             Jean       62   \n",
            "9                none        Ag5      f             Jean       62   \n",
            "10               none        Ag3      m             Dave       37   \n",
            "11               none        Ag2      f           Brenda       34   \n",
            "12               none        Ag3      m             Dave       37   \n",
            "13               none        Ag2      f          Pauline      30+   \n",
            "14               none        Ag3      f           Carole       36   \n",
            "15               none        Ag3      f           Carole       36   \n",
            "16               none        Ag3      f           Carole       36   \n",
            "17               none        Ag3      f           Carole       36   \n",
            "18               none        Ag5      f              Pat      60+   \n",
            "19            hedging        Ag3      f            Carol       44   \n",
            "20               none        Ag4      f          Norrine       54   \n",
            "21               none        Ag3      f            Lynda       44   \n",
            "22               none        Ag4      m            Chris       51   \n",
            "23               none        Ag4      f          Norrine       54   \n",
            "24               none        Ag4      f          Norrine       54   \n",
            "25               none        Ag3      f        Cherrilyn       43   \n",
            "26               none        Ag0      f          Jessica       13   \n",
            "27            hedging        Ag5      f             Nina       67   \n",
            "28               none        Ag5      f             Nina       67   \n",
            "29               none        Ag0      m             Adam        8   \n",
            "30               none          X      u          No name  unknown   \n",
            "31               none          X      u          No name  unknown   \n",
            "\n",
            "                   occupation                    location  \n",
            "0                     retired            Central Midlands  \n",
            "1                   housewife                  Lancashire  \n",
            "2                   bar staff               Home Counties  \n",
            "3                   bar staff                       Irish  \n",
            "4                     unknown                     unknown  \n",
            "5   entertainments consultant    Central Northern England  \n",
            "6           production worker  Central South-west England  \n",
            "7                   housewife               Home Counties  \n",
            "8                   housewife               Home Counties  \n",
            "9                   housewife               Home Counties  \n",
            "10                 hgv driver                      London  \n",
            "11                  housewife                      London  \n",
            "12                 hgv driver                      London  \n",
            "13                 shop owner               Home Counties  \n",
            "14         administrator (pt)               Home Counties  \n",
            "15         administrator (pt)               Home Counties  \n",
            "16         administrator (pt)               Home Counties  \n",
            "17         administrator (pt)               Home Counties  \n",
            "18                    retired               Home Counties  \n",
            "19                    courier            Central Midlands  \n",
            "20                    teacher                      London  \n",
            "21           export assistant                      London  \n",
            "22            export merchant               Home Counties  \n",
            "23                    teacher                      London  \n",
            "24                    teacher                      London  \n",
            "25          nursing auxiliary    Lower South-west England  \n",
            "26  student (state secondary)    Lower South-west England  \n",
            "27                    retired                  Lancashire  \n",
            "28                    retired                  Lancashire  \n",
            "29                    student                    Midlands  \n",
            "30                    unknown                     unknown  \n",
            "31                    unknown                     unknown  \n",
            "\n",
            "[32 rows x 27 columns]>\n"
          ]
        }
      ],
      "source": [
        "\n",
        "df = df.iloc[0:32] # this line subsets the dataframe to the rows that you annotated (currently all clefts are selected).\n",
        "# Replace the row numbers by your row numbers MINUS 1 (the first row has index 0)\n",
        "# Note that when importing the dataframe, a separate row index was added different from the nr-column.\n",
        "# For this assignment this is the most practical solution, but the nr-column is important to be able to recreate the order of appearance of the data in the corpus.\n",
        "\n",
        "print(df.head) # print your dataframe for manual inspection in case a variable is not read correctly\n",
        "rater1 = df['generalization_annotator1'].to_numpy() # change the names of the rater to the column header under which you did your annotations (e.g. sentiment_annotator1)\n",
        "rater2 = df['generalization_annotator2'].to_numpy()\n"
      ]
    },
    {
      "cell_type": "code",
      "source": [
        "rater1 = [\n",
        "    'specific', 'specific', 'specific', 'specific', 'general', 'specific',\n",
        "    'specific', 'specific', 'specific', 'general', 'specific', 'specific',\n",
        "    'general', 'specific', 'specific', 'specific', 'specific', 'general',\n",
        "    'specific', 'specific', 'specific', 'specific', 'specific', 'general',\n",
        "    'specific', 'specific', 'specific', 'specific', 'general', 'specific',\n",
        "    'specific', 'unclear'\n",
        "]\n",
        "\n",
        "rater2 = [\n",
        "    'specific', 'specific', 'specific', 'specific', 'general', 'specific',\n",
        "    'specific', 'specific', 'specific', 'general', 'specific', 'specific',\n",
        "    'general', 'specific', 'specific', 'specific', 'specific', 'general',\n",
        "    'specific', 'specific', 'specific', 'specific', 'specific', 'general',\n",
        "    'specific', 'specific', 'specific', 'specific', 'general', 'specific',\n",
        "    'specific', 'specific'\n",
        "]\n"
      ],
      "metadata": {
        "id": "vPkvDUPkzx68"
      },
      "execution_count": 20,
      "outputs": []
    },
    {
      "cell_type": "markdown",
      "metadata": {
        "id": "dauEO0XoPvoM"
      },
      "source": [
        "Print the Cohen's kappa agreement score (-1 = complete disagreement; 0 = random/chance agreement; 1 = full agreement)"
      ]
    },
    {
      "cell_type": "code",
      "execution_count": 18,
      "metadata": {
        "colab": {
          "base_uri": "https://localhost:8080/"
        },
        "id": "gE9yK5iSPvoN",
        "outputId": "d6e55b7a-cd82-4423-d213-b6799840c3cd"
      },
      "outputs": [
        {
          "output_type": "stream",
          "name": "stdout",
          "text": [
            "Cohen's kappa = 1.0\n"
          ]
        }
      ],
      "source": [
        "print(\"Cohen's kappa = \" + str(cohen_kappa_score(rater1, rater2, labels=None, weights='quadratic', sample_weight=None)))"
      ]
    },
    {
      "cell_type": "markdown",
      "metadata": {
        "id": "7e7J1QQ_PvoN"
      },
      "source": [
        "Create and plot non-normalized confusion matrix. Make sure to change the classes to the values of your category."
      ]
    },
    {
      "cell_type": "code",
      "execution_count": 23,
      "metadata": {
        "colab": {
          "base_uri": "https://localhost:8080/",
          "height": 504
        },
        "id": "a4Vt3E-8PvoN",
        "outputId": "d7282153-b1dc-41c2-e25f-3d84ba6f73ee"
      },
      "outputs": [
        {
          "output_type": "stream",
          "name": "stdout",
          "text": [
            "Normalized confusion matrix\n"
          ]
        },
        {
          "output_type": "display_data",
          "data": {
            "text/plain": [
              "<Figure size 640x480 with 2 Axes>"
            ],
            "image/png": "[encoded data removed]"
          },
          "metadata": {}
        }
      ],
      "source": [
        "classes = ['specific','general','unclear'] # change the names of these classes to the values of your sentiment, generalization or hedging category)\n",
        "# thank you https://datascience.stackexchange.com/questions/40067/confusion-matrix-three-classes-python\n",
        "def plot_confusion_matrix(cm, classes,\n",
        "                          normalize=True,\n",
        "                          title='Confusion matrix',\n",
        "                          cmap=plt.cm.Blues):\n",
        "\n",
        "    \"\"\"This function prints and plots the confusion matrix.\n",
        "    Normalization can be applied by setting `normalize=True`.\n",
        "    \"\"\"\n",
        "\n",
        "    if normalize:\n",
        "        cm = cm.astype('float') / cm.sum(axis=1)[:, np.newaxis]\n",
        "        print(\"Normalized confusion matrix\")\n",
        "    else:\n",
        "        print('Confusion matrix, without normalization') # change to 'without normalization' if you calculate the confusion matrix without\n",
        "                                                        # normalization (i.e. just want to see the raw numbers)\n",
        "    plt.imshow(cm, interpolation='nearest', cmap=cmap)\n",
        "    plt.title(title)\n",
        "    plt.colorbar()\n",
        "    tick_marks = np.arange(len(classes))\n",
        "    plt.xticks(tick_marks, classes, rotation=45)\n",
        "    plt.yticks(tick_marks, classes)\n",
        "    fmt = '.2f' if normalize else 'd'\n",
        "    thresh = cm.max() / 2.\n",
        "    for i, j in itertools.product(range(cm.shape[0]), range(cm.shape[1])):\n",
        "        plt.text(j, i, format(cm[i, j], fmt),\n",
        "                 horizontalalignment=\"center\",\n",
        "                 color=\"white\" if cm[i, j] > thresh else \"black\")\n",
        "    plt.ylabel('Rater 1 (Bloemen)') # replace X & Y by your respective names\n",
        "    plt.xlabel('Rater 2 (Mersin)')\n",
        "    plt.tight_layout()\n",
        "\n",
        "cnf_matrix = confusion_matrix(rater1, rater2,labels=['specific','general','unclear'],)\n",
        "np.set_printoptions(precision=2)\n",
        "plt.figure()\n",
        "plot_confusion_matrix(cnf_matrix, classes=['specific','general','unclear'],\n",
        "                      title='Confusion matrix, with normalization')"
      ]
    },
    {
      "cell_type": "markdown",
      "metadata": {
        "id": "Djj5gAY6PvoO"
      },
      "source": [
        "Save your plot as a file (will be in the working directory unless specified differently)"
      ]
    },
    {
      "cell_type": "code",
      "execution_count": 15,
      "metadata": {
        "id": "P52y8DBrPvoO",
        "colab": {
          "base_uri": "https://localhost:8080/",
          "height": 34
        },
        "outputId": "c7ba711e-1e52-4101-b267-c9477a220c95"
      },
      "outputs": [
        {
          "output_type": "display_data",
          "data": {
            "text/plain": [
              "<Figure size 640x480 with 0 Axes>"
            ]
          },
          "metadata": {}
        }
      ],
      "source": [
        "plt.savefig('confusionmatrix.png', bbox_inches='tight')"
      ]
    }
  ],
  "metadata": {
    "kernelspec": {
      "display_name": "Python 3",
      "language": "python",
      "name": "python3"
    },
    "language_info": {
      "codemirror_mode": {
        "name": "ipython",
        "version": 3
      },
      "file_extension": ".py",
      "mimetype": "text/x-python",
      "name": "python",
      "nbconvert_exporter": "python",
      "pygments_lexer": "ipython3",
      "version": "3.8.5"
    },
    "colab": {
      "provenance": [],
      "include_colab_link": true
    }
  },
  "nbformat": 4,
  "nbformat_minor": 0
}